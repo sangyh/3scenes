{
 "cells": [
  {
   "cell_type": "markdown",
   "metadata": {},
   "source": [
    "# Overview of classfication alorithms for Iris dataset"
   ]
  },
  {
   "cell_type": "code",
   "execution_count": 1,
   "metadata": {
    "collapsed": true
   },
   "outputs": [],
   "source": [
    "from sklearn.neighbors import KNeighborsClassifier\n",
    "from sklearn.naive_bayes import GaussianNB\n",
    "from sklearn.linear_model import LogisticRegression\n",
    "from sklearn.svm import SVC\n",
    "from sklearn.tree import DecisionTreeClassifier\n",
    "from sklearn.ensemble import RandomForestClassifier\n",
    "from sklearn.neural_network import MLPClassifier\n",
    "from sklearn.model_selection import train_test_split\n",
    "from sklearn.metrics import classification_report\n",
    "from sklearn.datasets import load_iris\n",
    "import argparse\n",
    "import pandas as pd"
   ]
  },
  {
   "cell_type": "code",
   "execution_count": 53,
   "metadata": {
    "collapsed": true
   },
   "outputs": [],
   "source": [
    "models = {\n",
    "\t\"knn\": KNeighborsClassifier(n_neighbors=1),\n",
    "\t\"naive_bayes\": GaussianNB(),\n",
    "\t\"logit\": LogisticRegression(solver=\"lbfgs\", multi_class=\"multinomial\"),\n",
    "\t\"svm\": SVC(kernel=\"rbf\", gamma=\"auto\"),\n",
    "\t\"decision_tree\": DecisionTreeClassifier(),\n",
    "\t\"random_forest\": RandomForestClassifier(n_estimators=100),\n",
    "    \"mlp\": MLPClassifier()\n",
    "}\n"
   ]
  },
  {
   "cell_type": "code",
   "execution_count": 54,
   "metadata": {},
   "outputs": [
    {
     "name": "stdout",
     "output_type": "stream",
     "text": [
      "[INFO] loading data...\n"
     ]
    }
   ],
   "source": [
    "# load the Iris dataset and perform a training and testing split,\n",
    "# using 75% of the data for training and 25% for evaluation\n",
    "print(\"[INFO] loading data...\")\n",
    "dataset = load_iris()\n",
    "(trainX, testX, trainY, testY) = train_test_split(dataset.data, dataset.target, random_state=3, test_size=0.25)"
   ]
  },
  {
   "cell_type": "code",
   "execution_count": 55,
   "metadata": {},
   "outputs": [
    {
     "name": "stdout",
     "output_type": "stream",
     "text": [
      "112 112 38 38\n"
     ]
    }
   ],
   "source": [
    "dataset.keys()\n",
    "#dataset['feature_names']\n",
    "print(len(trainX), len(trainY), len(testX), len(testY))"
   ]
  },
  {
   "cell_type": "code",
   "execution_count": 56,
   "metadata": {},
   "outputs": [
    {
     "name": "stdout",
     "output_type": "stream",
     "text": [
      "[INFO] using knn model\n",
      "[INFO] evaluating...\n",
      "             precision    recall  f1-score   support\n",
      "\n",
      "     setosa       1.00      1.00      1.00        15\n",
      " versicolor       0.92      0.92      0.92        12\n",
      "  virginica       0.91      0.91      0.91        11\n",
      "\n",
      "avg / total       0.95      0.95      0.95        38\n",
      "\n"
     ]
    }
   ],
   "source": [
    "## KNN\n",
    "#Choose an ML model to implement: knn,naive_bayes,logit,cvm,decision_tree,random_forest,mlp\n",
    "model_choice=\"knn\"\n",
    "\n",
    "# train the model\n",
    "print(f\"[INFO] using {model_choice} model\")\n",
    "model = models[model_choice]\n",
    "model.fit(trainX, trainY)\n",
    "\n",
    "# make predictions on our data and show a classification report\n",
    "print(\"[INFO] evaluating...\")\n",
    "predictions = model.predict(testX)\n",
    "print(classification_report(testY, predictions,target_names=dataset.target_names))"
   ]
  },
  {
   "cell_type": "code",
   "execution_count": 57,
   "metadata": {},
   "outputs": [
    {
     "name": "stdout",
     "output_type": "stream",
     "text": [
      "[INFO] using naive_bayes model\n",
      "[INFO] evaluating...\n",
      "             precision    recall  f1-score   support\n",
      "\n",
      "     setosa       1.00      1.00      1.00        15\n",
      " versicolor       1.00      0.92      0.96        12\n",
      "  virginica       0.92      1.00      0.96        11\n",
      "\n",
      "avg / total       0.98      0.97      0.97        38\n",
      "\n"
     ]
    }
   ],
   "source": [
    "## Naive Bayes\n",
    "model_choice=\"naive_bayes\"\n",
    "\n",
    "# train the model\n",
    "print(f\"[INFO] using {model_choice} model\")\n",
    "model = models[model_choice]\n",
    "model.fit(trainX, trainY)\n",
    "\n",
    "# make predictions on our data and show a classification report\n",
    "print(\"[INFO] evaluating...\")\n",
    "predictions = model.predict(testX)\n",
    "print(classification_report(testY, predictions,target_names=dataset.target_names))"
   ]
  },
  {
   "cell_type": "code",
   "execution_count": 58,
   "metadata": {},
   "outputs": [
    {
     "name": "stdout",
     "output_type": "stream",
     "text": [
      "[INFO] using logit model\n",
      "[INFO] evaluating...\n",
      "             precision    recall  f1-score   support\n",
      "\n",
      "     setosa       1.00      1.00      1.00        15\n",
      " versicolor       1.00      0.92      0.96        12\n",
      "  virginica       0.92      1.00      0.96        11\n",
      "\n",
      "avg / total       0.98      0.97      0.97        38\n",
      "\n"
     ]
    }
   ],
   "source": [
    "## Logistic Regression\n",
    "model_choice=\"logit\"\n",
    "\n",
    "# train the model\n",
    "print(f\"[INFO] using {model_choice} model\")\n",
    "model = models[model_choice]\n",
    "model.fit(trainX, trainY)\n",
    "\n",
    "# make predictions on our data and show a classification report\n",
    "print(\"[INFO] evaluating...\")\n",
    "predictions = model.predict(testX)\n",
    "print(classification_report(testY, predictions,target_names=dataset.target_names))"
   ]
  },
  {
   "cell_type": "code",
   "execution_count": 59,
   "metadata": {},
   "outputs": [
    {
     "name": "stdout",
     "output_type": "stream",
     "text": [
      "[INFO] using svm model\n",
      "[INFO] evaluating...\n",
      "             precision    recall  f1-score   support\n",
      "\n",
      "     setosa       1.00      1.00      1.00        15\n",
      " versicolor       1.00      0.92      0.96        12\n",
      "  virginica       0.92      1.00      0.96        11\n",
      "\n",
      "avg / total       0.98      0.97      0.97        38\n",
      "\n"
     ]
    }
   ],
   "source": [
    "## SVM\n",
    "model_choice=\"svm\"\n",
    "\n",
    "# train the model\n",
    "print(f\"[INFO] using {model_choice} model\")\n",
    "model = models[model_choice]\n",
    "model.fit(trainX, trainY)\n",
    "\n",
    "# make predictions on our data and show a classification report\n",
    "print(\"[INFO] evaluating...\")\n",
    "predictions = model.predict(testX)\n",
    "print(classification_report(testY, predictions,target_names=dataset.target_names))"
   ]
  },
  {
   "cell_type": "code",
   "execution_count": 60,
   "metadata": {},
   "outputs": [
    {
     "name": "stdout",
     "output_type": "stream",
     "text": [
      "[INFO] using decision_tree model\n",
      "[INFO] evaluating...\n",
      "             precision    recall  f1-score   support\n",
      "\n",
      "     setosa       1.00      1.00      1.00        15\n",
      " versicolor       1.00      0.92      0.96        12\n",
      "  virginica       0.92      1.00      0.96        11\n",
      "\n",
      "avg / total       0.98      0.97      0.97        38\n",
      "\n"
     ]
    }
   ],
   "source": [
    "## Decision Tree\n",
    "model_choice=\"decision_tree\"\n",
    "\n",
    "# train the model\n",
    "print(f\"[INFO] using {model_choice} model\")\n",
    "model = models[model_choice]\n",
    "model.fit(trainX, trainY)\n",
    "\n",
    "# make predictions on our data and show a classification report\n",
    "print(\"[INFO] evaluating...\")\n",
    "predictions = model.predict(testX)\n",
    "print(classification_report(testY, predictions,target_names=dataset.target_names))"
   ]
  },
  {
   "cell_type": "code",
   "execution_count": 62,
   "metadata": {},
   "outputs": [
    {
     "name": "stdout",
     "output_type": "stream",
     "text": [
      "[INFO] using random_forest model\n",
      "[INFO] evaluating...\n",
      "             precision    recall  f1-score   support\n",
      "\n",
      "     setosa       1.00      1.00      1.00        15\n",
      " versicolor       1.00      0.92      0.96        12\n",
      "  virginica       0.92      1.00      0.96        11\n",
      "\n",
      "avg / total       0.98      0.97      0.97        38\n",
      "\n"
     ]
    }
   ],
   "source": [
    "## Random Forest\n",
    "model_choice=\"random_forest\"\n",
    "\n",
    "# train the model\n",
    "print(f\"[INFO] using {model_choice} model\")\n",
    "model = models[model_choice]\n",
    "model.fit(trainX, trainY)\n",
    "\n",
    "# make predictions on our data and show a classification report\n",
    "print(\"[INFO] evaluating...\")\n",
    "predictions = model.predict(testX)\n",
    "print(classification_report(testY, predictions,target_names=dataset.target_names))"
   ]
  },
  {
   "cell_type": "code",
   "execution_count": 63,
   "metadata": {},
   "outputs": [
    {
     "name": "stdout",
     "output_type": "stream",
     "text": [
      "[INFO] using mlp model\n",
      "[INFO] evaluating...\n",
      "             precision    recall  f1-score   support\n",
      "\n",
      "     setosa       1.00      1.00      1.00        15\n",
      " versicolor       1.00      0.92      0.96        12\n",
      "  virginica       0.92      1.00      0.96        11\n",
      "\n",
      "avg / total       0.98      0.97      0.97        38\n",
      "\n"
     ]
    },
    {
     "name": "stderr",
     "output_type": "stream",
     "text": [
      "C:\\Users\\Sangy\\Anaconda3\\lib\\site-packages\\sklearn\\neural_network\\multilayer_perceptron.py:564: ConvergenceWarning: Stochastic Optimizer: Maximum iterations (200) reached and the optimization hasn't converged yet.\n",
      "  % self.max_iter, ConvergenceWarning)\n"
     ]
    }
   ],
   "source": [
    "## Multi Layer Perceptron\n",
    "model_choice=\"mlp\"\n",
    "\n",
    "# train the model\n",
    "print(f\"[INFO] using {model_choice} model\")\n",
    "model = models[model_choice]\n",
    "model.fit(trainX, trainY)\n",
    "\n",
    "# make predictions on our data and show a classification report\n",
    "print(\"[INFO] evaluating...\")\n",
    "predictions = model.predict(testX)\n",
    "print(classification_report(testY, predictions,target_names=dataset.target_names))"
   ]
  },
  {
   "cell_type": "code",
   "execution_count": null,
   "metadata": {
    "collapsed": true
   },
   "outputs": [],
   "source": []
  }
 ],
 "metadata": {
  "kernelspec": {
   "display_name": "Python [default]",
   "language": "python",
   "name": "python3"
  },
  "language_info": {
   "codemirror_mode": {
    "name": "ipython",
    "version": 3
   },
   "file_extension": ".py",
   "mimetype": "text/x-python",
   "name": "python",
   "nbconvert_exporter": "python",
   "pygments_lexer": "ipython3",
   "version": "3.6.2"
  }
 },
 "nbformat": 4,
 "nbformat_minor": 2
}
